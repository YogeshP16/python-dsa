{
  "metadata": {
    "language_info": {
      "codemirror_mode": {
        "name": "python",
        "version": 3
      },
      "file_extension": ".py",
      "mimetype": "text/x-python",
      "name": "python",
      "nbconvert_exporter": "python",
      "pygments_lexer": "ipython3",
      "version": "3.8"
    },
    "kernelspec": {
      "name": "python",
      "display_name": "Python (Pyodide)",
      "language": "python"
    }
  },
  "nbformat_minor": 4,
  "nbformat": 4,
  "cells": [
    {
      "cell_type": "code",
      "source": "#Time complexity --> O(nlogn)\n#quicksort  partition procedure\n#method def for partition\n\ndef partition(arr,p,q):\n    #pivot element is firt value in the array \n    pivot=arr[p]\n    i=p\n    for j in range(i+1,q+1):\n        if arr[j] <= pivot:\n            i+=1\n            arr[i],arr[j]=arr[j],arr[i]\n    arr[i],arr[p]=arr[p],arr[i]\n    return i\n            \n#method def\ndef quicksort(arr,p,q):\n    if p<q:\n        #func calling\n        mid =partition(arr,p,q)\n        #recusive call for left and right subtree\n        quicksort(arr,p,mid-1)\n        quicksort(arr,mid+1,q)\n    return   arr\n        \n#driver code\narr=[50,70,29,67,12,15,46]\n#starting index\np=0\n#ending index\nq=len(arr)-1\n#func calling\nresult=quicksort(arr,p,q)\nprint(result)",
      "metadata": {
        "trusted": true
      },
      "execution_count": 3,
      "outputs": [
        {
          "name": "stdout",
          "text": "[12, 15, 29, 46, 50, 67, 70]\n",
          "output_type": "stream"
        }
      ]
    },
    {
      "cell_type": "code",
      "source": "",
      "metadata": {},
      "execution_count": null,
      "outputs": []
    }
  ]
}