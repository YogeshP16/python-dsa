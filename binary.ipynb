{
  "metadata": {
    "language_info": {
      "codemirror_mode": {
        "name": "python",
        "version": 3
      },
      "file_extension": ".py",
      "mimetype": "text/x-python",
      "name": "python",
      "nbconvert_exporter": "python",
      "pygments_lexer": "ipython3",
      "version": "3.8"
    },
    "kernelspec": {
      "name": "python",
      "display_name": "Python (Pyodide)",
      "language": "python"
    }
  },
  "nbformat_minor": 4,
  "nbformat": 4,
  "cells": [
    {
      "cell_type": "code",
      "source": "#in given array find target value by summation of two values in the array\n#a+b=210\n#210 is the  target\n#time complexity o(n)\n#we using Two Pointer Approach\n\n\n\ndef binarysearch(arr,x,left,right):\n    while(left <=right):\n        if arr[left]+arr[right]== x:\n            return(left,right)\n        elif arr[left]+arr[right] < x:\n            left=left+1\n            #right=right-1\n        else:\n            right=right-1\n            #left=left+1\n    return -1      \n\n#driver code\narr=[20,40,60,90,120,240]\nx=210\nleft=0\nright= len(arr)-1\n\nresult=binarysearch(arr,x,left,right)\nprint(\"target value\",x)\nprint(result)",
      "metadata": {
        "trusted": true
      },
      "execution_count": 4,
      "outputs": [
        {
          "name": "stdout",
          "text": "target value 210\n(3, 4)\n",
          "output_type": "stream"
        }
      ]
    },
    {
      "cell_type": "code",
      "source": "",
      "metadata": {},
      "execution_count": null,
      "outputs": []
    },
    {
      "cell_type": "code",
      "source": "",
      "metadata": {},
      "execution_count": null,
      "outputs": []
    }
  ]
}