{
  "metadata": {
    "language_info": {
      "codemirror_mode": {
        "name": "python",
        "version": 3
      },
      "file_extension": ".py",
      "mimetype": "text/x-python",
      "name": "python",
      "nbconvert_exporter": "python",
      "pygments_lexer": "ipython3",
      "version": "3.8"
    },
    "kernelspec": {
      "name": "python",
      "display_name": "Python (Pyodide)",
      "language": "python"
    }
  },
  "nbformat_minor": 4,
  "nbformat": 4,
  "cells": [
    {
      "cell_type": "code",
      "source": "#Compute and return the square root of x, where x is guaranteed to be a non-negative\n#integer. And since the return type is an integer, the decimal digits are truncated and only\n#the integer part of the result is returned. Also, talk about the time complexity of your\n#code.\n#Test Cases:\n#Input: 4\n#Output: 2\n#Input: 8\n#Output: 2\n#Explanation: The square root of 8 is 2.8284…., the decimal part is truncated and 2 is\n#returned\n\n\n\n\n#func def\ndef sqrt(x):\n    i,j=0,x\n    while i<= j:\n        \n        mid=i+(j-i)//2\n    if mid*mid ==  x:\n        return mid\n    elif mid*mid < x:\n        i=mid+1\n    else:\n        j=mid-1    \n    return j\n#driver code\nx=4\nresult=sqrt(x)\nprint(result)\n    \n        \n",
      "metadata": {
        "trusted": true
      },
      "execution_count": null,
      "outputs": []
    },
    {
      "cell_type": "code",
      "source": "",
      "metadata": {},
      "execution_count": null,
      "outputs": []
    },
    {
      "cell_type": "code",
      "source": "",
      "metadata": {},
      "execution_count": null,
      "outputs": []
    },
    {
      "cell_type": "code",
      "source": "",
      "metadata": {},
      "execution_count": null,
      "outputs": []
    },
    {
      "cell_type": "code",
      "source": "",
      "metadata": {},
      "execution_count": null,
      "outputs": []
    }
  ]
}