{
  "metadata": {
    "language_info": {
      "codemirror_mode": {
        "name": "python",
        "version": 3
      },
      "file_extension": ".py",
      "mimetype": "text/x-python",
      "name": "python",
      "nbconvert_exporter": "python",
      "pygments_lexer": "ipython3",
      "version": "3.8"
    },
    "kernelspec": {
      "name": "python",
      "display_name": "Python (Pyodide)",
      "language": "python"
    }
  },
  "nbformat_minor": 4,
  "nbformat": 4,
  "cells": [
    {
      "cell_type": "code",
      "source": "#function def\ndef ternary(arr,left,right,target):\n    \n    #finding mid 1 mid 2 values\n    mid1=left+(right-left)//3\n    mid2=left-(right-left)//3\n    \n    while left<=right:\n        if arr[mid1]==target:\n            return mid1\n        elif arr[mid2]==target:\n            return mid2\n        \n        #first part of ternary\n        elif target < arr[mid1]:\n            return ternary(arr,left,mid1-1,target)\n        \n        #3rd part of ternary\n        elif target > arr[mid2]:\n            return ternary(arr,mid2+1,right,target)\n        \n        #mid part of ternary\n        else:\n            return ternary(arr,mid1+1,mid2-1,target)\n        #if no value present ret -1\n    return -1   \n        \n\n\n\n\n#drivercode\narr=[20,25,47,56,59,63,65,79,81]\ntarget=79\n\nleft=0\nright=len(arr)-1\n#calling func\nresult = ternary(arr,left,right,target)\nprint(target)\nprint(result)\n\n",
      "metadata": {
        "trusted": true
      },
      "execution_count": 11,
      "outputs": [
        {
          "name": "stdout",
          "text": "79\n-2\n",
          "output_type": "stream"
        }
      ]
    },
    {
      "cell_type": "code",
      "source": "",
      "metadata": {},
      "execution_count": null,
      "outputs": []
    }
  ]
}