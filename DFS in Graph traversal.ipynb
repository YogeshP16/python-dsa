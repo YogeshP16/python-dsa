{
  "metadata": {
    "language_info": {
      "codemirror_mode": {
        "name": "python",
        "version": 3
      },
      "file_extension": ".py",
      "mimetype": "text/x-python",
      "name": "python",
      "nbconvert_exporter": "python",
      "pygments_lexer": "ipython3",
      "version": "3.8"
    },
    "kernelspec": {
      "name": "python",
      "display_name": "Python (Pyodide)",
      "language": "python"
    }
  },
  "nbformat_minor": 4,
  "nbformat": 4,
  "cells": [
    {
      "cell_type": "code",
      "source": "#time complexity  \nadjacency list--- v+2E -----> tc= O(v+e)\nadjacency matrix ---- v+v2 ----> tc= O(v2)--- theta of v square",
      "metadata": {},
      "execution_count": null,
      "outputs": []
    },
    {
      "cell_type": "code",
      "source": "def dfs(visited, graph, node):\n    if node not in visited:\n        print(node, end=\" \")\n        visited.add(node)\n        for adjacent_node in graph[node]:\n            # recursion call\n            dfs(visited, graph, adjacent_node)\n\n# visited set to keep track of all nodes\nvisited = set()\n\n# driver code\ngraph = {'5': ['3', '7'], '3': ['2', '4'], '7': ['8'], '2': [], '4': ['8'], '8': []}\ndfs(visited, graph, '5')\n",
      "metadata": {
        "trusted": true
      },
      "execution_count": 4,
      "outputs": [
        {
          "name": "stdout",
          "text": "5 3 2 4 8 7 ",
          "output_type": "stream"
        }
      ]
    },
    {
      "cell_type": "code",
      "source": "",
      "metadata": {},
      "execution_count": null,
      "outputs": []
    }
  ]
}