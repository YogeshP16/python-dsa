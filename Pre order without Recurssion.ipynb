{
  "metadata": {
    "language_info": {
      "codemirror_mode": {
        "name": "python",
        "version": 3
      },
      "file_extension": ".py",
      "mimetype": "text/x-python",
      "name": "python",
      "nbconvert_exporter": "python",
      "pygments_lexer": "ipython3",
      "version": "3.8"
    },
    "kernelspec": {
      "name": "python",
      "display_name": "Python (Pyodide)",
      "language": "python"
    }
  },
  "nbformat_minor": 4,
  "nbformat": 4,
  "cells": [
    {
      "cell_type": "markdown",
      "source": "pre order , in order, post order without using recurssion in tree data structure\n\nwe can implement via stack ds",
      "metadata": {}
    },
    {
      "cell_type": "code",
      "source": "class Node:\n    def __init__(self, data):\n        self.left = None\n        self.right = None\n        self.data = data\n        \ndef preOrder(root):\n    if root is None:\n        return\n    stack = []\n    stack.append(root)\n    while len(stack) > 0:\n        node = stack.pop()\n        print(str(node.data) + \" \", end=' ')\n        if node.right:\n            stack.append(node.right)\n        if node.left:\n            stack.append(node.left)\n            \n# Time complexity for preOrder: O(N), where N is the number of nodes in the tree.\n# Space complexity for preOrder: O(N), where N is the number of nodes in the tree.\n\ndef postOrder(root):\n    if root is None:\n        return\n    stack1 = []\n    stack2 = []\n    stack1.append(root)\n    while len(stack1) > 0:\n        node = stack1.pop()\n        stack2.append(node)\n        if node.left:\n            stack1.append(node.left)\n        if node.right:\n            stack1.append(node.right)\n    while len(stack2) > 0:\n        node = stack2.pop()\n        print(str(node.data) + \" \", end=' ')\n\n# Time complexity for postOrder: O(N), where N is the number of nodes in the tree.\n# Space complexity for postOrder: O(N), where N is the number of nodes in the tree.\n\ndef inOrder(root):\n    curr = root\n    stack = []\n    while True:\n        if curr is not None:\n            stack.append(curr)\n            curr = curr.left\n        elif len(stack) > 0:\n            curr = stack.pop()\n            print(str(curr.data) + \" \", end=' ')\n            curr = curr.right\n        else:\n            break\n\n# Time complexity for inOrder: O(N), where N is the number of nodes in the tree.\n# Space complexity for inOrder: O(N), where N is the number of nodes in the tree.\n    \n# Driver code\nroot = Node(10)\nroot.left = Node(20)\nroot.right = Node(30)\nroot.left.left = Node(40)\nroot.left.right = Node(50)\nroot.right.left = Node(60)\nroot.right.right = Node(70)\n\nprint(\"preorder traversal:\")\npreOrder(root)\nprint()\nprint(\"inorder traversal:\")\ninOrder(root)\nprint()\nprint(\"postorder traversal:\")\npostOrder(root)\nprint()\n",
      "metadata": {
        "trusted": true
      },
      "execution_count": 10,
      "outputs": [
        {
          "name": "stdout",
          "text": "preorder traversal:\n10  20  40  50  30  60  70  \ninorder traversal:\n40  20  50  10  60  30  70  \npostorder traversal:\n40  50  20  60  70  30  10  \n",
          "output_type": "stream"
        }
      ]
    },
    {
      "cell_type": "code",
      "source": "",
      "metadata": {},
      "execution_count": null,
      "outputs": []
    }
  ]
}