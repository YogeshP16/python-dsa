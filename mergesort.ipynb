{
  "metadata": {
    "language_info": {
      "codemirror_mode": {
        "name": "python",
        "version": 3
      },
      "file_extension": ".py",
      "mimetype": "text/x-python",
      "name": "python",
      "nbconvert_exporter": "python",
      "pygments_lexer": "ipython3",
      "version": "3.8"
    },
    "kernelspec": {
      "name": "python",
      "display_name": "Python (Pyodide)",
      "language": "python"
    }
  },
  "nbformat_minor": 4,
  "nbformat": 4,
  "cells": [
    {
      "cell_type": "code",
      "source": "#timc complexity for mergeprocedure O(N)\n#implementation of merge procedure\ndef mergeprocedure (arr,i,mid,j):\n    #calculate the no of elements present in the left and right sub array\n    #higher index-lower index+1 \n    n1=mid-i+1\n    n2=j-mid\n    #initialize the left and right sub array\n    leftsub=[0]*n1\n    rightsub=[0]*n2\n    #copy the elements from the array to sub array\n    for m in range (n1):\n        leftsub[m]= arr[i+m]\n    for n in range (n2):\n        rightsub[n]=arr[mid+1+n]\n    p=0\n    q=0\n    k=i\n    \n    #returning sorted sub array\n    while p<n1 and q<n2:\n        if leftsub[p] <= rightsub[q]:\n            arr[k] =leftsub[p]\n            p+=1\n            \n        else :\n            arr[k] = rightsub[q]\n            q+=1\n        k+=1\n    #copying elements from the left and right sub array\n    while p<n1:\n        arr[k] =leftsub[p]\n        p+=1\n    \n    while q<n2:\n        arr[k]= rightsub[q]\n        q+=1\n    k+=1\n            \n\n\n#approach --- divide and conquer\n#time compelxity --> O(NLogN)\n#def func\ndef merge(arr,i,j):\n    while i<j:\n        #divide\n        mid=i+(j-1)//2\n        #conquer\n        #recursive call in left subtree\n        merge(arr,i,mid)\n        #recursive call in right sub tree\n        merge(arr,mid+1,j)\n        #mergeprocedure func calling\n        mergeprocedure(arr,i,mid,j)\n    return arr    \n\n#driver code\narr=[50,70,65,13,80,62,98,27]\n#starting index\ni=0\n#ending index\nj=len(arr)-1\n#func calling\nresult=merge(arr,i,j)\nprint(result)",
      "metadata": {
        "trusted": true
      },
      "execution_count": null,
      "outputs": []
    },
    {
      "cell_type": "code",
      "source": "",
      "metadata": {},
      "execution_count": null,
      "outputs": []
    },
    {
      "cell_type": "code",
      "source": "",
      "metadata": {},
      "execution_count": null,
      "outputs": []
    }
  ]
}