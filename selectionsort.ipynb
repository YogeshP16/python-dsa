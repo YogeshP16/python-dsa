{
  "metadata": {
    "language_info": {
      "codemirror_mode": {
        "name": "python",
        "version": 3
      },
      "file_extension": ".py",
      "mimetype": "text/x-python",
      "name": "python",
      "nbconvert_exporter": "python",
      "pygments_lexer": "ipython3",
      "version": "3.8"
    },
    "kernelspec": {
      "name": "python",
      "display_name": "Python (Pyodide)",
      "language": "python"
    }
  },
  "nbformat_minor": 4,
  "nbformat": 4,
  "cells": [
    {
      "cell_type": "code",
      "source": "#func def\ndef selection(arr):\n    n=len(arr)\n    for i in range (n):\n        minindex=i\n        for j in range (i+1,n):\n            if arr[j] < arr[minindex]:\n                minindex=j\n        #swap the index of i and minindex\n    \n        arr[i],arr[minindex]=arr[minindex],arr[i]\n    return arr\n    \n    \n       \n#timecomplexity o(n^2)\n#drivercode\narr=[70,35,56,42,36,19,57,69]\nresult=selection(arr)\nprint(result)\n",
      "metadata": {
        "trusted": true
      },
      "execution_count": 5,
      "outputs": [
        {
          "name": "stdout",
          "text": "[19, 35, 36, 42, 56, 57, 69, 70]\n",
          "output_type": "stream"
        }
      ]
    },
    {
      "cell_type": "code",
      "source": "",
      "metadata": {},
      "execution_count": null,
      "outputs": []
    }
  ]
}