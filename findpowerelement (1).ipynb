{
  "metadata": {
    "language_info": {
      "codemirror_mode": {
        "name": "python",
        "version": 3
      },
      "file_extension": ".py",
      "mimetype": "text/x-python",
      "name": "python",
      "nbconvert_exporter": "python",
      "pygments_lexer": "ipython3",
      "version": "3.8"
    },
    "kernelspec": {
      "name": "python",
      "display_name": "Python (Pyodide)",
      "language": "python"
    }
  },
  "nbformat_minor": 4,
  "nbformat": 4,
  "cells": [
    {
      "cell_type": "code",
      "source": "#func def\ndef findpowerelement(a,n):\n    if n==1:\n        return a\n    elif  n==0:\n        return 1\n    else:\n        mid = n//2\n        b=findpowerelement(a,mid)\n        result=b*b\n        if n%2 ==0:\n            return result\n        else:\n            return result*a\n\n#driver code\na=2\nn=16\n#func calling \nresult = findpowerelement(a,n)\nprint('the power element is :',result)",
      "metadata": {
        "trusted": true
      },
      "execution_count": null,
      "outputs": []
    },
    {
      "cell_type": "code",
      "source": "",
      "metadata": {},
      "execution_count": null,
      "outputs": []
    }
  ]
}