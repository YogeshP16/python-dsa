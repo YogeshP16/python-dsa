{
  "metadata": {
    "language_info": {
      "codemirror_mode": {
        "name": "python",
        "version": 3
      },
      "file_extension": ".py",
      "mimetype": "text/x-python",
      "name": "python",
      "nbconvert_exporter": "python",
      "pygments_lexer": "ipython3",
      "version": "3.8"
    },
    "kernelspec": {
      "name": "python",
      "display_name": "Python (Pyodide)",
      "language": "python"
    }
  },
  "nbformat_minor": 4,
  "nbformat": 4,
  "cells": [
    {
      "cell_type": "code",
      "source": "#func def\ndef bubble(arr):\n    n=len(arr)\n    for i in range (n):\n        for j in range (0,n-i-1):\n            if arr[j] > arr[j+1]:\n                arr[j],arr[j+1]=arr[j+1],arr[j]\n        return arr       \n\n\n#driver code\narr=[70,20,50,60,35,47]\nresult=bubble(arr)\nprint(result)\n",
      "metadata": {
        "trusted": true
      },
      "execution_count": 1,
      "outputs": [
        {
          "name": "stdout",
          "text": "[20, 50, 60, 35, 47, 70]\n",
          "output_type": "stream"
        }
      ]
    },
    {
      "cell_type": "code",
      "source": "",
      "metadata": {},
      "execution_count": null,
      "outputs": []
    }
  ]
}