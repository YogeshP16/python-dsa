{
  "metadata": {
    "language_info": {
      "codemirror_mode": {
        "name": "python",
        "version": 3
      },
      "file_extension": ".py",
      "mimetype": "text/x-python",
      "name": "python",
      "nbconvert_exporter": "python",
      "pygments_lexer": "ipython3",
      "version": "3.8"
    },
    "kernelspec": {
      "name": "python",
      "display_name": "Python (Pyodide)",
      "language": "python"
    }
  },
  "nbformat_minor": 4,
  "nbformat": 4,
  "cells": [
    {
      "cell_type": "markdown",
      "source": "imp of pre order, post order, in order using recurssion in tree data structure",
      "metadata": {}
    },
    {
      "cell_type": "code",
      "source": "# tc= O(N)\n# t(n)= 2t(n/2) + c using recurrence relation \n# a=2, b=2 ---> logb a = log 2 2 --> 1\n\n#create a node contains data, left and right pointer\nclass Node:\n    def __init__(self,data):\n        self.left=None\n        self.right=None\n        self.data=data\n    \n    #imp of pre order\n    def preOrder(root):\n        if root: #when root is not None\n            print(str(root.data)+ \" \", end=' ')\n        #using recursive function call\n            preOrder (root.left)\n            preOrder (root.right)\n        \n        #imp of in order\n    def inOrder(root):\n        if root: #when root is not None\n        #using recursive function call\n            inOrder (root.left)\n            print(str(root.data)+ \" \", end=' ')\n            inOrder (root.right)\n        \n        #imp of post order\n    def postOrder(root):\n        if root: #when root is not None\n        #using recursive function call\n            postOrder (root.left)\n            postOrder (root.right)\n            print(str(root.data)+ \" \", end=' ')\n#driver code\nroot=Node(10)\nroot.left= Node(20)\nroot.right= Node(30)\nroot.left.left=Node(40)\nroot.left.right=Node(50)\n\nprint (\"preorder traversal:\")\npreOrder(root)\nprint()\nprint (\"inorder traversal:\")\ninOrder(root)\nprint()\nprint (\"postorder traversal:\")\npostOrder(root)\nprint()\n        ",
      "metadata": {
        "trusted": true
      },
      "execution_count": 10,
      "outputs": [
        {
          "name": "stdout",
          "text": "preorder traversal:\n10  20  40  50  30  \ninorder traversal:\n40  20  50  10  30  \npostorder traversal:\n40  50  20  30  10  \n",
          "output_type": "stream"
        }
      ]
    },
    {
      "cell_type": "code",
      "source": "",
      "metadata": {},
      "execution_count": null,
      "outputs": []
    }
  ]
}