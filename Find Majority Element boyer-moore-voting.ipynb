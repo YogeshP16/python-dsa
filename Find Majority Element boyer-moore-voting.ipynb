{
  "metadata": {
    "language_info": {
      "codemirror_mode": {
        "name": "python",
        "version": 3
      },
      "file_extension": ".py",
      "mimetype": "text/x-python",
      "name": "python",
      "nbconvert_exporter": "python",
      "pygments_lexer": "ipython3",
      "version": "3.8"
    },
    "kernelspec": {
      "name": "python",
      "display_name": "Python (Pyodide)",
      "language": "python"
    }
  },
  "nbformat_minor": 4,
  "nbformat": 4,
  "cells": [
    {
      "cell_type": "code",
      "source": "#find the majority elements in the given array\n\n#time complexity --> O(n)\n#space complexity --> o(1)\n#methos def of findCandidate\ndef findCandidate(nums):\n    candidate = None\n    count= 0\n    for num in nums:\n        if count==0:\n            candidate = num\n        count += (1 if num == candidate else -1)\n    return candidate\n#method def of isMajorityElements\ndef isMajorityElements(nums,candidate):\n    cnt=0\n    size =len(nums)\n    for i in range(size):\n        if nums[i] == candidate:\n            cnt+=1\n    if cnt > size/2:\n        return 1\n    else:\n        return 0\n\n#method def of printMajorityElements\ndef printMajorityElements(nums):\n    cand=findCandidate(nums)\n    if isMajorityElements(nums,cand):\n        print(\"majority element is\", cand)\n    else:\n        print(\"no majority element exist\")\n        \n#driver code\nnums=[2,3,2,2,5,2]\nprintMajorityElements(nums)",
      "metadata": {
        "trusted": true
      },
      "execution_count": 2,
      "outputs": [
        {
          "name": "stdout",
          "text": "majority element is 2\n",
          "output_type": "stream"
        }
      ]
    },
    {
      "cell_type": "code",
      "source": "",
      "metadata": {},
      "execution_count": null,
      "outputs": []
    }
  ]
}
