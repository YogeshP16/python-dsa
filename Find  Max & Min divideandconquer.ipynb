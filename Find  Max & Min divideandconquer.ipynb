{
  "metadata": {
    "language_info": {
      "codemirror_mode": {
        "name": "python",
        "version": 3
      },
      "file_extension": ".py",
      "mimetype": "text/x-python",
      "name": "python",
      "nbconvert_exporter": "python",
      "pygments_lexer": "ipython3",
      "version": "3.8"
    },
    "kernelspec": {
      "name": "python",
      "display_name": "Python (Pyodide)",
      "language": "python"
    }
  },
  "nbformat_minor": 4,
  "nbformat": 4,
  "cells": [
    {
      "cell_type": "code",
      "source": "\n\n#recurrence relation --- T(n) = 2t(n/2)+c\n# using master theorem : T(n) = O(n)\n#def func\ndef findmaxandmin(arr,i,j):\n  \n\n    # single element - c\n    if i == j:\n        max_val = arr[i]\n        min_val = arr[i]\n    # two elements -c\n    elif i == j - 1:\n        if arr[i] < arr[j]:\n            max_val = arr[j]\n            min_val = arr[i]\n        else:\n            max_val = arr[i]\n            min_val = arr[j]\n    else:\n        # To find mid value - c\n        mid = i + (j - i) // 2\n        # Recursion--conquer - 2t(n/2)\n        max_1, min_1 = findmaxandmin(arr, i, mid)\n        max_2, min_2 = findmaxandmin(arr, mid + 1, j)\n        #to find max\n        if max_1 < max_2:\n            max_val = max_2\n        else:\n            max_val = max_1\n            #to find min\n\n        if min_1 < min_2:\n            min_val = min_1\n        else:\n            min_val = min_2\n\n    return max_val, min_val\n\n# driver code\narr = [23, 98, 34, 67, 4, 3, 56, 99]\n# starting index\ni = 0\n# ending index\nj = len(arr) - 1\n\n#callinf func\nmax_val, min_val = findmaxandmin(arr,i,j)\nprint('max and min:', max_val, min_val)\n",
      "metadata": {
        "trusted": true
      },
      "execution_count": null,
      "outputs": []
    },
    {
      "cell_type": "code",
      "source": "",
      "metadata": {},
      "execution_count": null,
      "outputs": []
    }
  ]
}
