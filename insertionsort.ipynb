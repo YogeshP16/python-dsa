{
  "metadata": {
    "language_info": {
      "codemirror_mode": {
        "name": "python",
        "version": 3
      },
      "file_extension": ".py",
      "mimetype": "text/x-python",
      "name": "python",
      "nbconvert_exporter": "python",
      "pygments_lexer": "ipython3",
      "version": "3.8"
    },
    "kernelspec": {
      "name": "python",
      "display_name": "Python (Pyodide)",
      "language": "python"
    }
  },
  "nbformat_minor": 4,
  "nbformat": 4,
  "cells": [
    {
      "cell_type": "code",
      "source": "#def func\n#time complexity : o(n^2)\ndef insertion(arr):\n    \n    for i in range(1,len(arr)):\n        j=i-1\n        key=arr[i]\n        #condition for insertion sort\n        while j>=0 and arr[j]>key:\n            arr[j+1]=arr[j]\n            j=j-1\n        arr[j+1]=key\n    return arr\n        \n     \n    \n        \n\n#driver code\narr=[75,90,100,95,85,80]\n\nresult=insertion(arr)\nprint(result)",
      "metadata": {
        "trusted": true
      },
      "execution_count": 15,
      "outputs": [
        {
          "name": "stdout",
          "text": "[75, 80, 85, 90, 95, 100]\n",
          "output_type": "stream"
        }
      ]
    },
    {
      "cell_type": "code",
      "source": "",
      "metadata": {},
      "execution_count": null,
      "outputs": []
    }
  ]
}