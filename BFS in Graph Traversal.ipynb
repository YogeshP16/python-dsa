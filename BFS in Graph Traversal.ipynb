{
  "metadata": {
    "language_info": {
      "codemirror_mode": {
        "name": "python",
        "version": 3
      },
      "file_extension": ".py",
      "mimetype": "text/x-python",
      "name": "python",
      "nbconvert_exporter": "python",
      "pygments_lexer": "ipython3",
      "version": "3.8"
    },
    "kernelspec": {
      "name": "python",
      "display_name": "Python (Pyodide)",
      "language": "python"
    }
  },
  "nbformat_minor": 4,
  "nbformat": 4,
  "cells": [
    {
      "cell_type": "code",
      "source": "#time complexity  \nadjacency list--- v+2E -----> tc= O(v+e)\nadjacency matrix ---- v+v2 ----> tc= O(v2)--- theta of v square \n\n\n#method def \nfrom collections import deque\nqueue = deque()\ndef bfs(graph, visited, node):\n    #queue = fifo\n    #to implement queue--fifo--appendleft,  pop or append, popleft\n    queue.appendleft(node)\n    while queue:\n        node = queue.pop()\n        print(node, end =\" \")\n        for adjacent_node in graph[node]:\n            if adjacent_node not in visited:\n                visited.add(adjacent_node)\n                queue.appendleft(adjacent_node)\n\n\n\n# driver code\ngraph = {'A': ['B', 'C','D'], 'B': ['E'], 'C': ['E','F'], 'D': ['F'], 'E': ['G'], 'F': ['G'],'G':[]}\n# visited set to keep track of all nodes\nvisited = set()\nbfs(graph, visited, 'A')",
      "metadata": {
        "trusted": true
      },
      "execution_count": 10,
      "outputs": [
        {
          "name": "stdout",
          "text": "A B C D E F G ",
          "output_type": "stream"
        }
      ]
    },
    {
      "cell_type": "code",
      "source": "from collections import deque\n\ndef bfs(graph, visited, node):\n    queue = deque()\n    queue.appendleft(node)\n    while queue:\n        node = queue.pop()\n        print(node, end=\" \")\n        for adjacent_node in graph[node]:\n            if adjacent_node not in visited:\n                visited.add(adjacent_node)\n                queue.appendleft(adjacent_node)\n\n# driver code\ngraph = {'A': ['B', 'C','D'], 'B': ['E'], 'C': ['E','F'], 'D': ['F'], 'E': ['G'], 'F': ['G'],'G':[]}\nvisited = set()\nbfs(graph, visited, 'A')\n",
      "metadata": {
        "trusted": true
      },
      "execution_count": 9,
      "outputs": [
        {
          "name": "stdout",
          "text": "A B C D E F G ",
          "output_type": "stream"
        }
      ]
    },
    {
      "cell_type": "code",
      "source": "",
      "metadata": {},
      "execution_count": null,
      "outputs": []
    }
  ]
}